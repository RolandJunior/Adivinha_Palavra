{
  "nbformat": 4,
  "nbformat_minor": 0,
  "metadata": {
    "colab": {
      "name": "Teste_Performance.ipynb",
      "provenance": []
    },
    "kernelspec": {
      "name": "python3",
      "display_name": "Python 3"
    }
  },
  "cells": [
    {
      "cell_type": "code",
      "metadata": {
        "id": "AeVHxt9EU0Z3",
        "colab_type": "code",
        "colab": {}
      },
      "source": [
        "import pandas as pd\n",
        "\n",
        "c1 = '../content/drive/My Drive/Temp/tp_v01.txt'\n",
        "c2 = '../content/drive/My Drive/Temp/tp_v02.txt'\n",
        "c3 = '../content/drive/My Drive/Temp/tp_v02_filtra_dic.txt'\n",
        "\n",
        "tp1 = pd.read_csv(c1, names=['Palavra','Caracteres','Tempo','Erros'])\n",
        "tp2 = pd.read_csv(c2, names=['Palavra','Caracteres','Tempo','Erros'])\n",
        "tp3 = pd.read_csv(c3, names=['Palavra','Caracteres','Tempo','Erros'])"
      ],
      "execution_count": 0,
      "outputs": []
    },
    {
      "cell_type": "code",
      "metadata": {
        "id": "nBWxOsWR423A",
        "colab_type": "code",
        "colab": {
          "base_uri": "https://localhost:8080/",
          "height": 204
        },
        "outputId": "f3a3166a-3cf2-4f42-b867-a571e7dc83ff"
      },
      "source": [
        "tp1.head()"
      ],
      "execution_count": 141,
      "outputs": [
        {
          "output_type": "execute_result",
          "data": {
            "text/html": [
              "<div>\n",
              "<style scoped>\n",
              "    .dataframe tbody tr th:only-of-type {\n",
              "        vertical-align: middle;\n",
              "    }\n",
              "\n",
              "    .dataframe tbody tr th {\n",
              "        vertical-align: top;\n",
              "    }\n",
              "\n",
              "    .dataframe thead th {\n",
              "        text-align: right;\n",
              "    }\n",
              "</style>\n",
              "<table border=\"1\" class=\"dataframe\">\n",
              "  <thead>\n",
              "    <tr style=\"text-align: right;\">\n",
              "      <th></th>\n",
              "      <th>Palavra</th>\n",
              "      <th>Caracteres</th>\n",
              "      <th>Tempo</th>\n",
              "      <th>Erros</th>\n",
              "    </tr>\n",
              "  </thead>\n",
              "  <tbody>\n",
              "    <tr>\n",
              "      <th>0</th>\n",
              "      <td>aals</td>\n",
              "      <td>4</td>\n",
              "      <td>0.000740</td>\n",
              "      <td>3</td>\n",
              "    </tr>\n",
              "    <tr>\n",
              "      <th>1</th>\n",
              "      <td>abarticular</td>\n",
              "      <td>11</td>\n",
              "      <td>0.002715</td>\n",
              "      <td>9</td>\n",
              "    </tr>\n",
              "    <tr>\n",
              "      <th>2</th>\n",
              "      <td>abbotcy</td>\n",
              "      <td>7</td>\n",
              "      <td>0.002922</td>\n",
              "      <td>12</td>\n",
              "    </tr>\n",
              "    <tr>\n",
              "      <th>3</th>\n",
              "      <td>abecedarius</td>\n",
              "      <td>11</td>\n",
              "      <td>0.002889</td>\n",
              "      <td>8</td>\n",
              "    </tr>\n",
              "    <tr>\n",
              "      <th>4</th>\n",
              "      <td>abided</td>\n",
              "      <td>6</td>\n",
              "      <td>0.002347</td>\n",
              "      <td>12</td>\n",
              "    </tr>\n",
              "  </tbody>\n",
              "</table>\n",
              "</div>"
            ],
            "text/plain": [
              "       Palavra  Caracteres     Tempo  Erros\n",
              "0         aals           4  0.000740      3\n",
              "1  abarticular          11  0.002715      9\n",
              "2      abbotcy           7  0.002922     12\n",
              "3  abecedarius          11  0.002889      8\n",
              "4       abided           6  0.002347     12"
            ]
          },
          "metadata": {
            "tags": []
          },
          "execution_count": 141
        }
      ]
    },
    {
      "cell_type": "code",
      "metadata": {
        "id": "9JyNSU3eYwbY",
        "colab_type": "code",
        "colab": {
          "base_uri": "https://localhost:8080/",
          "height": 314
        },
        "outputId": "5a7046c9-84e8-4c93-aaf6-8998052b99e9"
      },
      "source": [
        "erros = pd.concat([tp1['Erros'],tp2['Erros'],tp3['Erros']],axis=1)\n",
        "erros.columns = ['v0.1','v0.2','v0.2f']\n",
        "print('Tentativas sem sucesso')\n",
        "erros.describe()"
      ],
      "execution_count": 142,
      "outputs": [
        {
          "output_type": "stream",
          "text": [
            "Tentativas sem sucesso\n"
          ],
          "name": "stdout"
        },
        {
          "output_type": "execute_result",
          "data": {
            "text/html": [
              "<div>\n",
              "<style scoped>\n",
              "    .dataframe tbody tr th:only-of-type {\n",
              "        vertical-align: middle;\n",
              "    }\n",
              "\n",
              "    .dataframe tbody tr th {\n",
              "        vertical-align: top;\n",
              "    }\n",
              "\n",
              "    .dataframe thead th {\n",
              "        text-align: right;\n",
              "    }\n",
              "</style>\n",
              "<table border=\"1\" class=\"dataframe\">\n",
              "  <thead>\n",
              "    <tr style=\"text-align: right;\">\n",
              "      <th></th>\n",
              "      <th>v0.1</th>\n",
              "      <th>v0.2</th>\n",
              "      <th>v0.2f</th>\n",
              "    </tr>\n",
              "  </thead>\n",
              "  <tbody>\n",
              "    <tr>\n",
              "      <th>count</th>\n",
              "      <td>3569.000000</td>\n",
              "      <td>3569.000000</td>\n",
              "      <td>3569.000000</td>\n",
              "    </tr>\n",
              "    <tr>\n",
              "      <th>mean</th>\n",
              "      <td>9.649201</td>\n",
              "      <td>9.472962</td>\n",
              "      <td>6.006164</td>\n",
              "    </tr>\n",
              "    <tr>\n",
              "      <th>std</th>\n",
              "      <td>3.981206</td>\n",
              "      <td>3.921942</td>\n",
              "      <td>2.064532</td>\n",
              "    </tr>\n",
              "    <tr>\n",
              "      <th>min</th>\n",
              "      <td>0.000000</td>\n",
              "      <td>0.000000</td>\n",
              "      <td>0.000000</td>\n",
              "    </tr>\n",
              "    <tr>\n",
              "      <th>25%</th>\n",
              "      <td>7.000000</td>\n",
              "      <td>7.000000</td>\n",
              "      <td>5.000000</td>\n",
              "    </tr>\n",
              "    <tr>\n",
              "      <th>50%</th>\n",
              "      <td>9.000000</td>\n",
              "      <td>9.000000</td>\n",
              "      <td>6.000000</td>\n",
              "    </tr>\n",
              "    <tr>\n",
              "      <th>75%</th>\n",
              "      <td>12.000000</td>\n",
              "      <td>12.000000</td>\n",
              "      <td>7.000000</td>\n",
              "    </tr>\n",
              "    <tr>\n",
              "      <th>max</th>\n",
              "      <td>23.000000</td>\n",
              "      <td>21.000000</td>\n",
              "      <td>14.000000</td>\n",
              "    </tr>\n",
              "  </tbody>\n",
              "</table>\n",
              "</div>"
            ],
            "text/plain": [
              "              v0.1         v0.2        v0.2f\n",
              "count  3569.000000  3569.000000  3569.000000\n",
              "mean      9.649201     9.472962     6.006164\n",
              "std       3.981206     3.921942     2.064532\n",
              "min       0.000000     0.000000     0.000000\n",
              "25%       7.000000     7.000000     5.000000\n",
              "50%       9.000000     9.000000     6.000000\n",
              "75%      12.000000    12.000000     7.000000\n",
              "max      23.000000    21.000000    14.000000"
            ]
          },
          "metadata": {
            "tags": []
          },
          "execution_count": 142
        }
      ]
    },
    {
      "cell_type": "code",
      "metadata": {
        "id": "7mPVrHHJ26QJ",
        "colab_type": "code",
        "colab": {
          "base_uri": "https://localhost:8080/",
          "height": 314
        },
        "outputId": "a986cc5a-5407-4c37-fb76-caf9e49a7513"
      },
      "source": [
        "tempo = pd.concat([tp1['Tempo']*1000,tp2['Tempo']*1000,tp3['Tempo']*1000],axis=1)\n",
        "tempo.columns = ['v0.1','v0.2','v0.2f']\n",
        "print('Tempo por tentativa (ms)')\n",
        "tempo.describe()"
      ],
      "execution_count": 137,
      "outputs": [
        {
          "output_type": "stream",
          "text": [
            "Tempo por tentativa (ms)\n"
          ],
          "name": "stdout"
        },
        {
          "output_type": "execute_result",
          "data": {
            "text/html": [
              "<div>\n",
              "<style scoped>\n",
              "    .dataframe tbody tr th:only-of-type {\n",
              "        vertical-align: middle;\n",
              "    }\n",
              "\n",
              "    .dataframe tbody tr th {\n",
              "        vertical-align: top;\n",
              "    }\n",
              "\n",
              "    .dataframe thead th {\n",
              "        text-align: right;\n",
              "    }\n",
              "</style>\n",
              "<table border=\"1\" class=\"dataframe\">\n",
              "  <thead>\n",
              "    <tr style=\"text-align: right;\">\n",
              "      <th></th>\n",
              "      <th>v0.1</th>\n",
              "      <th>v0.2</th>\n",
              "      <th>v0.2f</th>\n",
              "    </tr>\n",
              "  </thead>\n",
              "  <tbody>\n",
              "    <tr>\n",
              "      <th>count</th>\n",
              "      <td>3569.000000</td>\n",
              "      <td>3569.000000</td>\n",
              "      <td>3569.000000</td>\n",
              "    </tr>\n",
              "    <tr>\n",
              "      <th>mean</th>\n",
              "      <td>2.943584</td>\n",
              "      <td>2.656217</td>\n",
              "      <td>2.216223</td>\n",
              "    </tr>\n",
              "    <tr>\n",
              "      <th>std</th>\n",
              "      <td>1.120010</td>\n",
              "      <td>1.416458</td>\n",
              "      <td>1.549954</td>\n",
              "    </tr>\n",
              "    <tr>\n",
              "      <th>min</th>\n",
              "      <td>0.301700</td>\n",
              "      <td>0.305100</td>\n",
              "      <td>0.294600</td>\n",
              "    </tr>\n",
              "    <tr>\n",
              "      <th>25%</th>\n",
              "      <td>2.357200</td>\n",
              "      <td>1.791600</td>\n",
              "      <td>1.193500</td>\n",
              "    </tr>\n",
              "    <tr>\n",
              "      <th>50%</th>\n",
              "      <td>3.026900</td>\n",
              "      <td>2.689200</td>\n",
              "      <td>1.780400</td>\n",
              "    </tr>\n",
              "    <tr>\n",
              "      <th>75%</th>\n",
              "      <td>4.144100</td>\n",
              "      <td>3.393800</td>\n",
              "      <td>2.772700</td>\n",
              "    </tr>\n",
              "    <tr>\n",
              "      <th>max</th>\n",
              "      <td>7.210900</td>\n",
              "      <td>37.668700</td>\n",
              "      <td>18.384900</td>\n",
              "    </tr>\n",
              "  </tbody>\n",
              "</table>\n",
              "</div>"
            ],
            "text/plain": [
              "              v0.1         v0.2        v0.2f\n",
              "count  3569.000000  3569.000000  3569.000000\n",
              "mean      2.943584     2.656217     2.216223\n",
              "std       1.120010     1.416458     1.549954\n",
              "min       0.301700     0.305100     0.294600\n",
              "25%       2.357200     1.791600     1.193500\n",
              "50%       3.026900     2.689200     1.780400\n",
              "75%       4.144100     3.393800     2.772700\n",
              "max       7.210900    37.668700    18.384900"
            ]
          },
          "metadata": {
            "tags": []
          },
          "execution_count": 137
        }
      ]
    },
    {
      "cell_type": "code",
      "metadata": {
        "id": "kbRcLIjz7tw8",
        "colab_type": "code",
        "colab": {}
      },
      "source": [
        ""
      ],
      "execution_count": 0,
      "outputs": []
    }
  ]
}