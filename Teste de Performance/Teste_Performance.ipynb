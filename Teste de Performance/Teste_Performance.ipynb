{
  "nbformat": 4,
  "nbformat_minor": 0,
  "metadata": {
    "colab": {
      "name": "Teste_Performance.ipynb",
      "provenance": []
    },
    "kernelspec": {
      "name": "python3",
      "display_name": "Python 3"
    }
  },
  "cells": [
    {
      "cell_type": "code",
      "metadata": {
        "id": "AeVHxt9EU0Z3",
        "colab_type": "code",
        "colab": {}
      },
      "source": [
        "import pandas as pd\n",
        "\n",
        "c1 = '../content/drive/My Drive/Temp/tp_v01.txt'\n",
        "c2 = '../content/drive/My Drive/Temp/tp_v02.txt'\n",
        "c3 = '../content/drive/My Drive/Temp/tp_v02_filtra_dic.txt'\n",
        "\n",
        "tp1 = pd.read_csv(c1, names=['Palavra','Caracteres','Tempo','Erros'])\n",
        "tp2 = pd.read_csv(c2, names=['Palavra','Caracteres','Tempo','Erros'])\n",
        "tp3 = pd.read_csv(c3, names=['Palavra','Caracteres','Tempo','Erros'])"
      ],
      "execution_count": 0,
      "outputs": []
    },
    {
      "cell_type": "code",
      "metadata": {
        "id": "nBWxOsWR423A",
        "colab_type": "code",
        "colab": {
          "base_uri": "https://localhost:8080/",
          "height": 204
        },
        "outputId": "f3a3166a-3cf2-4f42-b867-a571e7dc83ff"
      },
      "source": [
        "tp1.head()"
      ],
      "execution_count": 141,
      "outputs": [
        {
          "output_type": "execute_result",
          "data": {
            "text/html": [
              "<div>\n",
              "<style scoped>\n",
              "    .dataframe tbody tr th:only-of-type {\n",
              "        vertical-align: middle;\n",
              "    }\n",
              "\n",
              "    .dataframe tbody tr th {\n",
              "        vertical-align: top;\n",
              "    }\n",
              "\n",
              "    .dataframe thead th {\n",
              "        text-align: right;\n",
              "    }\n",
              "</style>\n",
              "<table border=\"1\" class=\"dataframe\">\n",
              "  <thead>\n",
              "    <tr style=\"text-align: right;\">\n",
              "      <th></th>\n",
              "      <th>Palavra</th>\n",
              "      <th>Caracteres</th>\n",
              "      <th>Tempo</th>\n",
              "      <th>Erros</th>\n",
              "    </tr>\n",
              "  </thead>\n",
              "  <tbody>\n",
              "    <tr>\n",
              "      <th>0</th>\n",
              "      <td>aals</td>\n",
              "      <td>4</td>\n",
              "      <td>0.000740</td>\n",
              "      <td>3</td>\n",
              "    </tr>\n",
              "    <tr>\n",
              "      <th>1</th>\n",
              "      <td>abarticular</td>\n",
              "      <td>11</td>\n",
              "      <td>0.002715</td>\n",
              "      <td>9</td>\n",
              "    </tr>\n",
              "    <tr>\n",
              "      <th>2</th>\n",
              "      <td>abbotcy</td>\n",
              "      <td>7</td>\n",
              "      <td>0.002922</td>\n",
              "      <td>12</td>\n",
              "    </tr>\n",
              "    <tr>\n",
              "      <th>3</th>\n",
              "      <td>abecedarius</td>\n",
              "      <td>11</td>\n",
              "      <td>0.002889</td>\n",
              "      <td>8</td>\n",
              "    </tr>\n",
              "    <tr>\n",
              "      <th>4</th>\n",
              "      <td>abided</td>\n",
              "      <td>6</td>\n",
              "      <td>0.002347</td>\n",
              "      <td>12</td>\n",
              "    </tr>\n",
              "  </tbody>\n",
              "</table>\n",
              "</div>"
            ],
            "text/plain": [
              "       Palavra  Caracteres     Tempo  Erros\n",
              "0         aals           4  0.000740      3\n",
              "1  abarticular          11  0.002715      9\n",
              "2      abbotcy           7  0.002922     12\n",
              "3  abecedarius          11  0.002889      8\n",
              "4       abided           6  0.002347     12"
            ]
          },
          "metadata": {
            "tags": []
          },
          "execution_count": 141
        }
      ]
    },
    {
      "cell_type": "code",
      "metadata": {
        "id": "9JyNSU3eYwbY",
        "colab_type": "code",
        "colab": {
          "base_uri": "https://localhost:8080/",
          "height": 225
        },
        "outputId": "6496cdde-d87e-4eeb-f6ff-fe05daef90ef"
      },
      "source": [
        "erros = pd.concat([tp1['Erros'],tp2['Erros'],tp3['Erros']],axis=1)\n",
        "erros.columns = ['v0.1','v0.2','v0.2f']\n",
        "erros.describe().style.set_caption('TENTATIVAS SEM SUCESSO')"
      ],
      "execution_count": 143,
      "outputs": [
        {
          "output_type": "execute_result",
          "data": {
            "text/html": [
              "<style  type=\"text/css\" >\n",
              "</style><table id=\"T_e3a9cc28_8b29_11ea_9a35_0242ac1c0002\" ><caption>TENTATIVAS SEM SUCESSO</caption><thead>    <tr>        <th class=\"blank level0\" ></th>        <th class=\"col_heading level0 col0\" >v0.1</th>        <th class=\"col_heading level0 col1\" >v0.2</th>        <th class=\"col_heading level0 col2\" >v0.2f</th>    </tr></thead><tbody>\n",
              "                <tr>\n",
              "                        <th id=\"T_e3a9cc28_8b29_11ea_9a35_0242ac1c0002level0_row0\" class=\"row_heading level0 row0\" >count</th>\n",
              "                        <td id=\"T_e3a9cc28_8b29_11ea_9a35_0242ac1c0002row0_col0\" class=\"data row0 col0\" >3569.000000</td>\n",
              "                        <td id=\"T_e3a9cc28_8b29_11ea_9a35_0242ac1c0002row0_col1\" class=\"data row0 col1\" >3569.000000</td>\n",
              "                        <td id=\"T_e3a9cc28_8b29_11ea_9a35_0242ac1c0002row0_col2\" class=\"data row0 col2\" >3569.000000</td>\n",
              "            </tr>\n",
              "            <tr>\n",
              "                        <th id=\"T_e3a9cc28_8b29_11ea_9a35_0242ac1c0002level0_row1\" class=\"row_heading level0 row1\" >mean</th>\n",
              "                        <td id=\"T_e3a9cc28_8b29_11ea_9a35_0242ac1c0002row1_col0\" class=\"data row1 col0\" >9.649201</td>\n",
              "                        <td id=\"T_e3a9cc28_8b29_11ea_9a35_0242ac1c0002row1_col1\" class=\"data row1 col1\" >9.472962</td>\n",
              "                        <td id=\"T_e3a9cc28_8b29_11ea_9a35_0242ac1c0002row1_col2\" class=\"data row1 col2\" >6.006164</td>\n",
              "            </tr>\n",
              "            <tr>\n",
              "                        <th id=\"T_e3a9cc28_8b29_11ea_9a35_0242ac1c0002level0_row2\" class=\"row_heading level0 row2\" >std</th>\n",
              "                        <td id=\"T_e3a9cc28_8b29_11ea_9a35_0242ac1c0002row2_col0\" class=\"data row2 col0\" >3.981206</td>\n",
              "                        <td id=\"T_e3a9cc28_8b29_11ea_9a35_0242ac1c0002row2_col1\" class=\"data row2 col1\" >3.921942</td>\n",
              "                        <td id=\"T_e3a9cc28_8b29_11ea_9a35_0242ac1c0002row2_col2\" class=\"data row2 col2\" >2.064532</td>\n",
              "            </tr>\n",
              "            <tr>\n",
              "                        <th id=\"T_e3a9cc28_8b29_11ea_9a35_0242ac1c0002level0_row3\" class=\"row_heading level0 row3\" >min</th>\n",
              "                        <td id=\"T_e3a9cc28_8b29_11ea_9a35_0242ac1c0002row3_col0\" class=\"data row3 col0\" >0.000000</td>\n",
              "                        <td id=\"T_e3a9cc28_8b29_11ea_9a35_0242ac1c0002row3_col1\" class=\"data row3 col1\" >0.000000</td>\n",
              "                        <td id=\"T_e3a9cc28_8b29_11ea_9a35_0242ac1c0002row3_col2\" class=\"data row3 col2\" >0.000000</td>\n",
              "            </tr>\n",
              "            <tr>\n",
              "                        <th id=\"T_e3a9cc28_8b29_11ea_9a35_0242ac1c0002level0_row4\" class=\"row_heading level0 row4\" >25%</th>\n",
              "                        <td id=\"T_e3a9cc28_8b29_11ea_9a35_0242ac1c0002row4_col0\" class=\"data row4 col0\" >7.000000</td>\n",
              "                        <td id=\"T_e3a9cc28_8b29_11ea_9a35_0242ac1c0002row4_col1\" class=\"data row4 col1\" >7.000000</td>\n",
              "                        <td id=\"T_e3a9cc28_8b29_11ea_9a35_0242ac1c0002row4_col2\" class=\"data row4 col2\" >5.000000</td>\n",
              "            </tr>\n",
              "            <tr>\n",
              "                        <th id=\"T_e3a9cc28_8b29_11ea_9a35_0242ac1c0002level0_row5\" class=\"row_heading level0 row5\" >50%</th>\n",
              "                        <td id=\"T_e3a9cc28_8b29_11ea_9a35_0242ac1c0002row5_col0\" class=\"data row5 col0\" >9.000000</td>\n",
              "                        <td id=\"T_e3a9cc28_8b29_11ea_9a35_0242ac1c0002row5_col1\" class=\"data row5 col1\" >9.000000</td>\n",
              "                        <td id=\"T_e3a9cc28_8b29_11ea_9a35_0242ac1c0002row5_col2\" class=\"data row5 col2\" >6.000000</td>\n",
              "            </tr>\n",
              "            <tr>\n",
              "                        <th id=\"T_e3a9cc28_8b29_11ea_9a35_0242ac1c0002level0_row6\" class=\"row_heading level0 row6\" >75%</th>\n",
              "                        <td id=\"T_e3a9cc28_8b29_11ea_9a35_0242ac1c0002row6_col0\" class=\"data row6 col0\" >12.000000</td>\n",
              "                        <td id=\"T_e3a9cc28_8b29_11ea_9a35_0242ac1c0002row6_col1\" class=\"data row6 col1\" >12.000000</td>\n",
              "                        <td id=\"T_e3a9cc28_8b29_11ea_9a35_0242ac1c0002row6_col2\" class=\"data row6 col2\" >7.000000</td>\n",
              "            </tr>\n",
              "            <tr>\n",
              "                        <th id=\"T_e3a9cc28_8b29_11ea_9a35_0242ac1c0002level0_row7\" class=\"row_heading level0 row7\" >max</th>\n",
              "                        <td id=\"T_e3a9cc28_8b29_11ea_9a35_0242ac1c0002row7_col0\" class=\"data row7 col0\" >23.000000</td>\n",
              "                        <td id=\"T_e3a9cc28_8b29_11ea_9a35_0242ac1c0002row7_col1\" class=\"data row7 col1\" >21.000000</td>\n",
              "                        <td id=\"T_e3a9cc28_8b29_11ea_9a35_0242ac1c0002row7_col2\" class=\"data row7 col2\" >14.000000</td>\n",
              "            </tr>\n",
              "    </tbody></table>"
            ],
            "text/plain": [
              "<pandas.io.formats.style.Styler at 0x7f1016fa78d0>"
            ]
          },
          "metadata": {
            "tags": []
          },
          "execution_count": 143
        }
      ]
    },
    {
      "cell_type": "code",
      "metadata": {
        "id": "7mPVrHHJ26QJ",
        "colab_type": "code",
        "colab": {
          "base_uri": "https://localhost:8080/",
          "height": 314
        },
        "outputId": "a986cc5a-5407-4c37-fb76-caf9e49a7513"
      },
      "source": [
        "tempo = pd.concat([tp1['Tempo']*1000,tp2['Tempo']*1000,tp3['Tempo']*1000],axis=1)\n",
        "tempo.columns = ['v0.1','v0.2','v0.2f']\n",
        "print('Tempo por tentativa (ms)')\n",
        "tempo.describe()"
      ],
      "execution_count": 137,
      "outputs": [
        {
          "output_type": "stream",
          "text": [
            "Tempo por tentativa (ms)\n"
          ],
          "name": "stdout"
        },
        {
          "output_type": "execute_result",
          "data": {
            "text/html": [
              "<div>\n",
              "<style scoped>\n",
              "    .dataframe tbody tr th:only-of-type {\n",
              "        vertical-align: middle;\n",
              "    }\n",
              "\n",
              "    .dataframe tbody tr th {\n",
              "        vertical-align: top;\n",
              "    }\n",
              "\n",
              "    .dataframe thead th {\n",
              "        text-align: right;\n",
              "    }\n",
              "</style>\n",
              "<table border=\"1\" class=\"dataframe\">\n",
              "  <thead>\n",
              "    <tr style=\"text-align: right;\">\n",
              "      <th></th>\n",
              "      <th>v0.1</th>\n",
              "      <th>v0.2</th>\n",
              "      <th>v0.2f</th>\n",
              "    </tr>\n",
              "  </thead>\n",
              "  <tbody>\n",
              "    <tr>\n",
              "      <th>count</th>\n",
              "      <td>3569.000000</td>\n",
              "      <td>3569.000000</td>\n",
              "      <td>3569.000000</td>\n",
              "    </tr>\n",
              "    <tr>\n",
              "      <th>mean</th>\n",
              "      <td>2.943584</td>\n",
              "      <td>2.656217</td>\n",
              "      <td>2.216223</td>\n",
              "    </tr>\n",
              "    <tr>\n",
              "      <th>std</th>\n",
              "      <td>1.120010</td>\n",
              "      <td>1.416458</td>\n",
              "      <td>1.549954</td>\n",
              "    </tr>\n",
              "    <tr>\n",
              "      <th>min</th>\n",
              "      <td>0.301700</td>\n",
              "      <td>0.305100</td>\n",
              "      <td>0.294600</td>\n",
              "    </tr>\n",
              "    <tr>\n",
              "      <th>25%</th>\n",
              "      <td>2.357200</td>\n",
              "      <td>1.791600</td>\n",
              "      <td>1.193500</td>\n",
              "    </tr>\n",
              "    <tr>\n",
              "      <th>50%</th>\n",
              "      <td>3.026900</td>\n",
              "      <td>2.689200</td>\n",
              "      <td>1.780400</td>\n",
              "    </tr>\n",
              "    <tr>\n",
              "      <th>75%</th>\n",
              "      <td>4.144100</td>\n",
              "      <td>3.393800</td>\n",
              "      <td>2.772700</td>\n",
              "    </tr>\n",
              "    <tr>\n",
              "      <th>max</th>\n",
              "      <td>7.210900</td>\n",
              "      <td>37.668700</td>\n",
              "      <td>18.384900</td>\n",
              "    </tr>\n",
              "  </tbody>\n",
              "</table>\n",
              "</div>"
            ],
            "text/plain": [
              "              v0.1         v0.2        v0.2f\n",
              "count  3569.000000  3569.000000  3569.000000\n",
              "mean      2.943584     2.656217     2.216223\n",
              "std       1.120010     1.416458     1.549954\n",
              "min       0.301700     0.305100     0.294600\n",
              "25%       2.357200     1.791600     1.193500\n",
              "50%       3.026900     2.689200     1.780400\n",
              "75%       4.144100     3.393800     2.772700\n",
              "max       7.210900    37.668700    18.384900"
            ]
          },
          "metadata": {
            "tags": []
          },
          "execution_count": 137
        }
      ]
    }
  ]
}